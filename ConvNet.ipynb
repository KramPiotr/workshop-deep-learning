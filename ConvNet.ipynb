{
  "nbformat": 4,
  "nbformat_minor": 0,
  "metadata": {
    "colab": {
      "name": "ConvNet.ipynb",
      "version": "0.3.2",
      "provenance": [],
      "include_colab_link": true
    },
    "kernelspec": {
      "name": "python3",
      "display_name": "Python 3"
    },
    "accelerator": "GPU"
  },
  "cells": [
    {
      "cell_type": "markdown",
      "metadata": {
        "id": "view-in-github",
        "colab_type": "text"
      },
      "source": [
        "[View in Colaboratory](https://colab.research.google.com/github/mukul-rathi/workshop-deep-learning/blob/master/ConvNet.ipynb)"
      ]
    },
    {
      "metadata": {
        "id": "lDupTkzbZity",
        "colab_type": "text"
      },
      "cell_type": "markdown",
      "source": [
        "# Convolutional Neural Net\n",
        "\n",
        "This is the notebook accompanying the CNN workshop"
      ]
    },
    {
      "metadata": {
        "id": "1r64tZrRZ8OP",
        "colab_type": "text"
      },
      "cell_type": "markdown",
      "source": [
        "First, let's import dependencies:"
      ]
    },
    {
      "metadata": {
        "id": "Rzn5B0GbZfIC",
        "colab_type": "code",
        "colab": {}
      },
      "cell_type": "code",
      "source": [
        "import numpy as np\n",
        "\n",
        "#import the keras functions\n",
        "from keras.models import Model, Sequential\n",
        "from keras.layers import Conv2D, MaxPooling2D, Input, Flatten, Dense\n",
        "from keras.optimizers import Adam\n",
        "\n",
        "#import the MNIST dataset\n",
        "from keras.datasets import mnist\n",
        "\n"
      ],
      "execution_count": 0,
      "outputs": []
    },
    {
      "metadata": {
        "id": "OJZ_1oN4cAVX",
        "colab_type": "text"
      },
      "cell_type": "markdown",
      "source": [
        "Read in the data:"
      ]
    },
    {
      "metadata": {
        "id": "LQQF2bVhcBOU",
        "colab_type": "code",
        "colab": {}
      },
      "cell_type": "code",
      "source": [
        "(x_train, y_train), (x_test, y_test) = mnist.load_data()\n",
        "\n",
        "num_classes = 10\n",
        "\n",
        "# expand dims so (num_examples, 28., 28, 1)\n",
        "x_train = np.expand_dims(x_train, axis=-1)\n",
        "x_test = np.expand_dims(x_test, axis=-1)\n",
        "x_train= x_train / 255\n",
        "x_test = x_test / 255\n",
        "\n",
        "#one hot encode\n",
        "y_train = np.eye(num_classes)[y_train]"
      ],
      "execution_count": 0,
      "outputs": []
    },
    {
      "metadata": {
        "id": "P43cvuiMarfY",
        "colab_type": "text"
      },
      "cell_type": "markdown",
      "source": [
        "Define the model"
      ]
    },
    {
      "metadata": {
        "id": "y5sMido3anfY",
        "colab_type": "code",
        "colab": {
          "base_uri": "https://localhost:8080/",
          "height": 34
        },
        "outputId": "d7365748-aa37-4d43-f74a-e6de6a7cfa02"
      },
      "cell_type": "code",
      "source": [
        "def initCNN(input_shape, num_classes):\n",
        "    print(\"Initialising...\")\n",
        "    model = Sequential()\n",
        "    model.add(Conv2D(16, kernel_size=(3, 3), strides=(1, 1),\n",
        "               activation='relu',\n",
        "               input_shape=(input_shape)))\n",
        "    model.add(MaxPooling2D(pool_size=(2, 2), strides=(2, 2)))\n",
        "    model.add(Conv2D(32,kernel_size=(3, 3), activation='relu'))\n",
        "    model.add(MaxPooling2D(pool_size=(2, 2)))\n",
        "    model.add(Flatten())\n",
        "    model.add(Dense(100, activation='relu'))\n",
        "    model.add(Dense(num_classes, activation='softmax'))\n",
        "    return model\n",
        "\n",
        "convNet = initCNN(x_train[0].shape, num_classes)"
      ],
      "execution_count": 17,
      "outputs": [
        {
          "output_type": "stream",
          "text": [
            "Initialising...\n"
          ],
          "name": "stdout"
        }
      ]
    },
    {
      "metadata": {
        "id": "03QAcRS2ebkz",
        "colab_type": "code",
        "colab": {}
      },
      "cell_type": "code",
      "source": [
        "convNet.compile(loss='categorical_crossentropy',\n",
        "              optimizer='sgd',\n",
        "              metrics=['accuracy'])"
      ],
      "execution_count": 0,
      "outputs": []
    },
    {
      "metadata": {
        "id": "ZtX63q0IfOH5",
        "colab_type": "code",
        "colab": {
          "base_uri": "https://localhost:8080/",
          "height": 374
        },
        "outputId": "74cbef74-44b0-4f31-8a6a-892814466777"
      },
      "cell_type": "code",
      "source": [
        "convNet.fit(x_train, y_train, epochs=10, batch_size=256)"
      ],
      "execution_count": 20,
      "outputs": [
        {
          "output_type": "stream",
          "text": [
            "Epoch 1/10\n",
            "60000/60000 [==============================] - 3s 57us/step - loss: 0.2145 - acc: 0.9360\n",
            "Epoch 2/10\n",
            "60000/60000 [==============================] - 3s 56us/step - loss: 0.1933 - acc: 0.9419\n",
            "Epoch 3/10\n",
            "60000/60000 [==============================] - 4s 59us/step - loss: 0.1755 - acc: 0.9466\n",
            "Epoch 4/10\n",
            "60000/60000 [==============================] - 3s 58us/step - loss: 0.1616 - acc: 0.9522\n",
            "Epoch 5/10\n",
            "60000/60000 [==============================] - 4s 67us/step - loss: 0.1486 - acc: 0.9551\n",
            "Epoch 6/10\n",
            "60000/60000 [==============================] - 4s 68us/step - loss: 0.1392 - acc: 0.9584\n",
            "Epoch 7/10\n",
            "60000/60000 [==============================] - 4s 66us/step - loss: 0.1305 - acc: 0.9608\n",
            "Epoch 8/10\n",
            "60000/60000 [==============================] - 4s 66us/step - loss: 0.1241 - acc: 0.9636\n",
            "Epoch 9/10\n",
            "60000/60000 [==============================] - 4s 66us/step - loss: 0.1172 - acc: 0.9649\n",
            "Epoch 10/10\n",
            "60000/60000 [==============================] - 4s 67us/step - loss: 0.1117 - acc: 0.9664\n"
          ],
          "name": "stdout"
        },
        {
          "output_type": "execute_result",
          "data": {
            "text/plain": [
              "<keras.callbacks.History at 0x7fabfc9790f0>"
            ]
          },
          "metadata": {
            "tags": []
          },
          "execution_count": 20
        }
      ]
    },
    {
      "metadata": {
        "id": "LcIyx1IwhYii",
        "colab_type": "code",
        "colab": {}
      },
      "cell_type": "code",
      "source": [
        ""
      ],
      "execution_count": 0,
      "outputs": []
    },
    {
      "metadata": {
        "id": "Np9N9E7noGUf",
        "colab_type": "code",
        "colab": {}
      },
      "cell_type": "code",
      "source": [
        ""
      ],
      "execution_count": 0,
      "outputs": []
    }
  ]
}