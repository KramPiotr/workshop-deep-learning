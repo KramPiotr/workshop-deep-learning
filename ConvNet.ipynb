{
  "nbformat": 4,
  "nbformat_minor": 0,
  "metadata": {
    "colab": {
      "name": "ConvNet.ipynb",
      "version": "0.3.2",
      "provenance": [],
      "collapsed_sections": [],
      "include_colab_link": true
    },
    "kernelspec": {
      "name": "python3",
      "display_name": "Python 3"
    },
    "accelerator": "GPU"
  },
  "cells": [
    {
      "cell_type": "markdown",
      "metadata": {
        "id": "view-in-github",
        "colab_type": "text"
      },
      "source": [
        "[View in Colaboratory](https://colab.research.google.com/github/mukul-rathi/workshop-deep-learning/blob/master/ConvNet.ipynb)"
      ]
    },
    {
      "metadata": {
        "id": "lDupTkzbZity",
        "colab_type": "text"
      },
      "cell_type": "markdown",
      "source": [
        "# Convolutional Neural Net\n",
        "\n",
        "This is the notebook accompanying the CNN workshop"
      ]
    },
    {
      "metadata": {
        "id": "1r64tZrRZ8OP",
        "colab_type": "text"
      },
      "cell_type": "markdown",
      "source": [
        "First, let's import dependencies:"
      ]
    },
    {
      "metadata": {
        "id": "Rzn5B0GbZfIC",
        "colab_type": "code",
        "colab": {}
      },
      "cell_type": "code",
      "source": [
        "import numpy as np\n",
        "\n",
        "#import the keras functions\n",
        "from keras.models import Model, Sequential\n",
        "from keras.layers import Conv2D, MaxPooling2D, Input, Flatten, Dense\n",
        "from keras.optimizers import Adam\n",
        "from  keras.utils import to_categorical as OneHotEncode\n",
        "\n",
        "#import the MNIST dataset\n",
        "from keras.datasets import mnist\n",
        "\n"
      ],
      "execution_count": 0,
      "outputs": []
    },
    {
      "metadata": {
        "id": "OJZ_1oN4cAVX",
        "colab_type": "text"
      },
      "cell_type": "markdown",
      "source": [
        "Read in the data:"
      ]
    },
    {
      "metadata": {
        "id": "LQQF2bVhcBOU",
        "colab_type": "code",
        "colab": {}
      },
      "cell_type": "code",
      "source": [
        "#Load in the data\n",
        "(x_train, y_train), (x_test, y_test) = mnist.load_data()\n",
        "\n",
        "num_classes = 10\n",
        "num_train_examples = x_train.shape[0]\n",
        "num_test_examples = x_test.shape[0]\n",
        "\n",
        "# reshape array so dims are (num_examples, 28, 28, 1)\n",
        "x_train = np.reshape(x_train, (num_train_examples, 28,28,1))\n",
        "x_test = np.reshape(x_test, (num_test_examples, 28,28,1))\n",
        "\n",
        "# divide both arrays by 255 (to normalise from [0..255] to [0..1])\n",
        "x_train= x_train / 255\n",
        "x_test = x_test / 255\n",
        "\n",
        "#one hot encode\n",
        "y_train = OneHotEncode(y_train, num_classes)\n",
        "y_test = OneHotEncode(y_test, num_classes)"
      ],
      "execution_count": 0,
      "outputs": []
    },
    {
      "metadata": {
        "id": "P43cvuiMarfY",
        "colab_type": "text"
      },
      "cell_type": "markdown",
      "source": [
        "Define the model"
      ]
    },
    {
      "metadata": {
        "id": "y5sMido3anfY",
        "colab_type": "code",
        "colab": {}
      },
      "cell_type": "code",
      "source": [
        "def initCNN(input_shape, num_classes):\n",
        "    model = Sequential()\n",
        "    model.add(Conv2D(16, kernel_size=(3, 3), strides=(1, 1),\n",
        "               activation='relu',\n",
        "               input_shape=(input_shape)))\n",
        "    model.add(MaxPooling2D(pool_size=(2, 2), strides=(2, 2)))\n",
        "    model.add(Conv2D(32,kernel_size=(3, 3), activation='relu'))\n",
        "    model.add(MaxPooling2D(pool_size=(2, 2)))\n",
        "    model.add(Flatten())\n",
        "    model.add(Dense(100, activation='relu'))\n",
        "    model.add(Dense(num_classes, activation='softmax'))\n",
        "    return model\n",
        "\n",
        "convNet = initCNN(x_train[0].shape, num_classes)"
      ],
      "execution_count": 0,
      "outputs": []
    },
    {
      "metadata": {
        "id": "03QAcRS2ebkz",
        "colab_type": "code",
        "colab": {}
      },
      "cell_type": "code",
      "source": [
        "convNet.compile(loss='categorical_crossentropy',\n",
        "              optimizer='sgd',\n",
        "              metrics=['accuracy'])"
      ],
      "execution_count": 0,
      "outputs": []
    },
    {
      "metadata": {
        "id": "ZtX63q0IfOH5",
        "colab_type": "code",
        "colab": {
          "base_uri": "https://localhost:8080/",
          "height": 391
        },
        "outputId": "007ad464-07db-4e09-ef61-bcf4d93239e6"
      },
      "cell_type": "code",
      "source": [
        "convNet.fit(x_train, y_train, epochs=10, batch_size=256,verbose=1, validation_data=(x_test, y_test))"
      ],
      "execution_count": 33,
      "outputs": [
        {
          "output_type": "stream",
          "text": [
            "Train on 60000 samples, validate on 10000 samples\n",
            "Epoch 1/10\n",
            "60000/60000 [==============================] - 4s 72us/step - loss: 1.9205 - acc: 0.4805 - val_loss: 0.9831 - val_acc: 0.7456\n",
            "Epoch 2/10\n",
            "60000/60000 [==============================] - 4s 64us/step - loss: 0.6099 - acc: 0.8232 - val_loss: 0.4622 - val_acc: 0.8560\n",
            "Epoch 3/10\n",
            "60000/60000 [==============================] - 4s 64us/step - loss: 0.3946 - acc: 0.8793 - val_loss: 0.3519 - val_acc: 0.8914\n",
            "Epoch 4/10\n",
            "60000/60000 [==============================] - 4s 60us/step - loss: 0.3233 - acc: 0.9012 - val_loss: 0.2897 - val_acc: 0.9109\n",
            "Epoch 5/10\n",
            "60000/60000 [==============================] - 4s 63us/step - loss: 0.2820 - acc: 0.9137 - val_loss: 0.2544 - val_acc: 0.9215\n",
            "Epoch 6/10\n",
            "60000/60000 [==============================] - 4s 64us/step - loss: 0.2458 - acc: 0.9253 - val_loss: 0.2439 - val_acc: 0.9231\n",
            "Epoch 7/10\n",
            "60000/60000 [==============================] - 4s 65us/step - loss: 0.2199 - acc: 0.9334 - val_loss: 0.1984 - val_acc: 0.9414\n",
            "Epoch 8/10\n",
            "60000/60000 [==============================] - 4s 67us/step - loss: 0.1981 - acc: 0.9397 - val_loss: 0.1874 - val_acc: 0.9446\n",
            "Epoch 9/10\n",
            "60000/60000 [==============================] - 4s 62us/step - loss: 0.1812 - acc: 0.9456 - val_loss: 0.1805 - val_acc: 0.9419\n",
            "Epoch 10/10\n",
            "60000/60000 [==============================] - 4s 64us/step - loss: 0.1663 - acc: 0.9499 - val_loss: 0.1500 - val_acc: 0.9560\n"
          ],
          "name": "stdout"
        },
        {
          "output_type": "execute_result",
          "data": {
            "text/plain": [
              "<keras.callbacks.History at 0x7fabdb085128>"
            ]
          },
          "metadata": {
            "tags": []
          },
          "execution_count": 33
        }
      ]
    },
    {
      "metadata": {
        "id": "LcIyx1IwhYii",
        "colab_type": "code",
        "colab": {
          "base_uri": "https://localhost:8080/",
          "height": 34
        },
        "outputId": "5eaa4968-04e2-444c-a148-b3991b7d98f5"
      },
      "cell_type": "code",
      "source": [
        "loss, accuracy = convNet.evaluate(x_test, y_test, verbose=0)\n",
        "print(\"Test Accuracy: \" + str(accuracy))"
      ],
      "execution_count": 36,
      "outputs": [
        {
          "output_type": "stream",
          "text": [
            "Test Accuracy: 0.956\n"
          ],
          "name": "stdout"
        }
      ]
    },
    {
      "metadata": {
        "id": "Np9N9E7noGUf",
        "colab_type": "code",
        "colab": {}
      },
      "cell_type": "code",
      "source": [
        ""
      ],
      "execution_count": 0,
      "outputs": []
    }
  ]
}