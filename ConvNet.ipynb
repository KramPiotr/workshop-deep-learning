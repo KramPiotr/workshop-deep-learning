{
  "nbformat": 4,
  "nbformat_minor": 0,
  "metadata": {
    "colab": {
      "name": "ConvNet.ipynb",
      "version": "0.3.2",
      "provenance": [],
      "collapsed_sections": [],
      "include_colab_link": true
    },
    "kernelspec": {
      "name": "python3",
      "display_name": "Python 3"
    },
    "accelerator": "GPU"
  },
  "cells": [
    {
      "cell_type": "markdown",
      "metadata": {
        "id": "view-in-github",
        "colab_type": "text"
      },
      "source": [
        "[View in Colaboratory](https://colab.research.google.com/github/mukul-rathi/workshop-deep-learning/blob/master/ConvNet.ipynb)"
      ]
    },
    {
      "metadata": {
        "id": "lDupTkzbZity",
        "colab_type": "text"
      },
      "cell_type": "markdown",
      "source": [
        "# Convolutional Neural Net\n",
        "\n",
        "This is the notebook accompanying the CNN workshop"
      ]
    },
    {
      "metadata": {
        "id": "1r64tZrRZ8OP",
        "colab_type": "text"
      },
      "cell_type": "markdown",
      "source": [
        "First, let's import dependencies:"
      ]
    },
    {
      "metadata": {
        "id": "Rzn5B0GbZfIC",
        "colab_type": "code",
        "colab": {
          "base_uri": "https://localhost:8080/",
          "height": 34
        },
        "outputId": "036b7ce4-270c-4f1b-f6da-ee8ffa8e68d3"
      },
      "cell_type": "code",
      "source": [
        "import numpy as np\n",
        "\n",
        "#import the keras functions\n",
        "from keras.models import Model, Sequential\n",
        "from keras.layers import Conv2D, MaxPooling2D, Input, Flatten, Dense\n",
        "from keras.optimizers import Adam\n",
        "from  keras.utils import to_categorical as OneHotEncode\n",
        "\n",
        "#to visualise outputs\n",
        "from keras.callbacks import TensorBoard\n",
        "#import the MNIST dataset\n",
        "from keras.datasets import mnist\n",
        "\n"
      ],
      "execution_count": 1,
      "outputs": [
        {
          "output_type": "stream",
          "text": [
            "Using TensorFlow backend.\n"
          ],
          "name": "stderr"
        }
      ]
    },
    {
      "metadata": {
        "id": "OJZ_1oN4cAVX",
        "colab_type": "text"
      },
      "cell_type": "markdown",
      "source": [
        "Read in the data:"
      ]
    },
    {
      "metadata": {
        "id": "LQQF2bVhcBOU",
        "colab_type": "code",
        "colab": {}
      },
      "cell_type": "code",
      "source": [
        "#Load in the data\n",
        "(x_train, y_train), (x_test, y_test) = mnist.load_data()\n",
        "\n",
        "num_classes = 10\n",
        "num_train_examples = x_train.shape[0]\n",
        "num_test_examples = x_test.shape[0]\n",
        "\n",
        "# reshape array so dims are (num_examples, 28, 28, 1)\n",
        "x_train = np.reshape(x_train, (num_train_examples, 28,28,1))\n",
        "x_test = np.reshape(x_test, (num_test_examples, 28,28,1))\n",
        "\n",
        "# divide both arrays by 255 (to normalise from [0..255] to [0..1])\n",
        "x_train= x_train / 255\n",
        "x_test = x_test / 255\n",
        "\n",
        "#one hot encode\n",
        "y_train = OneHotEncode(y_train, num_classes)\n",
        "y_test = OneHotEncode(y_test, num_classes)"
      ],
      "execution_count": 0,
      "outputs": []
    },
    {
      "metadata": {
        "id": "P43cvuiMarfY",
        "colab_type": "text"
      },
      "cell_type": "markdown",
      "source": [
        "Define the model"
      ]
    },
    {
      "metadata": {
        "id": "y5sMido3anfY",
        "colab_type": "code",
        "colab": {}
      },
      "cell_type": "code",
      "source": [
        "def initCNN(input_shape, num_classes):\n",
        "    model = Sequential()\n",
        "    model.add(Conv2D(16, kernel_size=(3, 3), strides=(1, 1),\n",
        "               activation='relu',\n",
        "           input_shape=(input_shape), padding='same'))\n",
        "    model.add(MaxPooling2D(pool_size=(2, 2), strides=(2, 2)))\n",
        "    model.add(Conv2D(32,kernel_size=(3, 3), activation='relu',padding='same'))\n",
        "    model.add(MaxPooling2D(pool_size=(2, 2)))\n",
        "    model.add(Flatten())\n",
        "    model.add(Dense(128, activation='relu'))\n",
        "    model.add(Dense(num_classes, activation='softmax'))\n",
        "    return model\n",
        "\n"
      ],
      "execution_count": 0,
      "outputs": []
    },
    {
      "metadata": {
        "id": "2AwmpwYPPWQO",
        "colab_type": "code",
        "colab": {
          "base_uri": "https://localhost:8080/",
          "height": 374
        },
        "outputId": "512326c0-c850-40e3-ffa4-0b7c612bf73b"
      },
      "cell_type": "code",
      "source": [
        "convNet = initCNN(x_train[0].shape, num_classes)\n",
        "convNet.summary() #print the shape of the "
      ],
      "execution_count": 4,
      "outputs": [
        {
          "output_type": "stream",
          "text": [
            "_________________________________________________________________\n",
            "Layer (type)                 Output Shape              Param #   \n",
            "=================================================================\n",
            "conv2d_1 (Conv2D)            (None, 28, 28, 16)        160       \n",
            "_________________________________________________________________\n",
            "max_pooling2d_1 (MaxPooling2 (None, 14, 14, 16)        0         \n",
            "_________________________________________________________________\n",
            "conv2d_2 (Conv2D)            (None, 14, 14, 32)        4640      \n",
            "_________________________________________________________________\n",
            "max_pooling2d_2 (MaxPooling2 (None, 7, 7, 32)          0         \n",
            "_________________________________________________________________\n",
            "flatten_1 (Flatten)          (None, 1568)              0         \n",
            "_________________________________________________________________\n",
            "dense_1 (Dense)              (None, 128)               200832    \n",
            "_________________________________________________________________\n",
            "dense_2 (Dense)              (None, 10)                1290      \n",
            "=================================================================\n",
            "Total params: 206,922\n",
            "Trainable params: 206,922\n",
            "Non-trainable params: 0\n",
            "_________________________________________________________________\n"
          ],
          "name": "stdout"
        }
      ]
    },
    {
      "metadata": {
        "id": "03QAcRS2ebkz",
        "colab_type": "code",
        "colab": {}
      },
      "cell_type": "code",
      "source": [
        "convNet.compile(loss='categorical_crossentropy',\n",
        "              optimizer='sgd',\n",
        "              metrics=['accuracy'])"
      ],
      "execution_count": 0,
      "outputs": []
    },
    {
      "metadata": {
        "id": "OcnHGud1iLj8",
        "colab_type": "code",
        "colab": {
          "base_uri": "https://localhost:8080/",
          "height": 150
        },
        "outputId": "f31acc4c-8021-4387-84d6-c6e42f3c4479"
      },
      "cell_type": "code",
      "source": [
        "!wget https://bin.equinox.io/c/4VmDzA7iaHb/ngrok-stable-linux-amd64.zip\n",
        "!unzip ngrok-stable-linux-amd64.zip\n",
        "LOG_DIR = './logs'\n",
        "get_ipython().system_raw(\n",
        "    'tensorboard --logdir {} --host 0.0.0.0 --port 6006 &'\n",
        "    .format(LOG_DIR)\n",
        ")\n",
        "get_ipython().system_raw('./ngrok http 6006 &')\n",
        "! curl -s http://localhost:4040/api/tunnels | python3 -c \\\n",
        "    \"import sys, json; print(json.load(sys.stdin)['tunnels'][0]['public_url'])\""
      ],
      "execution_count": 26,
      "outputs": [
        {
          "output_type": "stream",
          "text": [
            "\n",
            "Redirecting output to ‘wget-log.5’.\n",
            "Archive:  ngrok-stable-linux-amd64.zip\n",
            "replace ngrok? [y]es, [n]o, [A]ll, [N]one, [r]ename: y\n",
            "  inflating: ngrok                   \n",
            "https://a691eb20.ngrok.io\n"
          ],
          "name": "stdout"
        }
      ]
    },
    {
      "metadata": {
        "id": "ZtX63q0IfOH5",
        "colab_type": "code",
        "colab": {
          "base_uri": "https://localhost:8080/",
          "height": 221
        },
        "outputId": "931c18b7-1a95-4b5d-a860-7d091e0163c6"
      },
      "cell_type": "code",
      "source": [
        "visualisations = TensorBoard(log_dir='./logs', histogram_freq=5, batch_size=256, write_graph=True, write_grads=True, write_images=True)\n",
        "visualisations.set_model(convNet)\n",
        "convNet.fit(x_train, y_train, epochs=5, batch_size=256,verbose=1, validation_data=(x_test, y_test), callbacks=[visualisations])\n"
      ],
      "execution_count": 28,
      "outputs": [
        {
          "output_type": "stream",
          "text": [
            "Train on 60000 samples, validate on 10000 samples\n",
            "Epoch 1/5\n",
            "60000/60000 [==============================] - 3s 58us/step - loss: 0.0645 - acc: 0.9806 - val_loss: 0.0653 - val_acc: 0.9785\n",
            "Epoch 2/5\n",
            "60000/60000 [==============================] - 4s 59us/step - loss: 0.0631 - acc: 0.9810 - val_loss: 0.0807 - val_acc: 0.9739\n",
            "Epoch 3/5\n",
            "60000/60000 [==============================] - 4s 59us/step - loss: 0.0624 - acc: 0.9815 - val_loss: 0.0638 - val_acc: 0.9799\n",
            "Epoch 4/5\n",
            "60000/60000 [==============================] - 3s 57us/step - loss: 0.0599 - acc: 0.9819 - val_loss: 0.0804 - val_acc: 0.9741\n",
            "Epoch 5/5\n",
            "60000/60000 [==============================] - 3s 57us/step - loss: 0.0593 - acc: 0.9823 - val_loss: 0.0747 - val_acc: 0.9782\n"
          ],
          "name": "stdout"
        },
        {
          "output_type": "execute_result",
          "data": {
            "text/plain": [
              "<keras.callbacks.History at 0x7f6ea8820160>"
            ]
          },
          "metadata": {
            "tags": []
          },
          "execution_count": 28
        }
      ]
    },
    {
      "metadata": {
        "id": "LcIyx1IwhYii",
        "colab_type": "code",
        "colab": {
          "base_uri": "https://localhost:8080/",
          "height": 34
        },
        "outputId": "15980953-de7a-40ff-f193-0ed1ba517ce2"
      },
      "cell_type": "code",
      "source": [
        "loss, accuracy = convNet.evaluate(x_test, y_test, verbose=0)\n",
        "print(\"Test Accuracy: \" + str(accuracy))"
      ],
      "execution_count": 8,
      "outputs": [
        {
          "output_type": "stream",
          "text": [
            "Test Accuracy: 0.9341\n"
          ],
          "name": "stdout"
        }
      ]
    },
    {
      "metadata": {
        "id": "Np9N9E7noGUf",
        "colab_type": "code",
        "colab": {
          "base_uri": "https://localhost:8080/",
          "height": 286
        },
        "outputId": "fa5e0eab-e730-4717-dc92-760993a5ccc9"
      },
      "cell_type": "code",
      "source": [
        "!cd ../..\n",
        "!ls -al"
      ],
      "execution_count": 19,
      "outputs": [
        {
          "output_type": "stream",
          "text": [
            "total 31508\n",
            "drwxr-xr-x 1 root root     4096 Oct  2 20:54 .\n",
            "drwxr-xr-x 1 root root     4096 Oct  2 19:19 ..\n",
            "drwxr-xr-x 4 root root     4096 Sep 28 23:11 .config\n",
            "drwxr-xr-x 4 root root     4096 Oct  2 20:25 Graph\n",
            "-rwxr-xr-x 1 root root 16117632 Jul 15  2017 ngrok\n",
            "-rw-r--r-- 1 root root  5363700 Oct  2 20:50 ngrok-stable-linux-amd64.zip\n",
            "-rw-r--r-- 1 root root  5363700 Oct  2 20:51 ngrok-stable-linux-amd64.zip.1\n",
            "-rw-r--r-- 1 root root  5363700 Oct  2 20:52 ngrok-stable-linux-amd64.zip.2\n",
            "drwxr-xr-x 2 root root     4096 Sep 28 23:32 sample_data\n",
            "-rw-r--r-- 1 root root       48 Oct  2 20:47 url.txt\n",
            "-rw-r--r-- 1 root root      822 Oct  2 20:50 wget-log\n",
            "-rw-r--r-- 1 root root      827 Oct  2 20:51 wget-log.1\n",
            "-rw-r--r-- 1 root root      830 Oct  2 20:52 wget-log.2\n"
          ],
          "name": "stdout"
        }
      ]
    },
    {
      "metadata": {
        "id": "JrSiGGSVOjQk",
        "colab_type": "text"
      },
      "cell_type": "markdown",
      "source": [
        "### Visualise the activations:\n"
      ]
    },
    {
      "metadata": {
        "id": "iq41NFsKOqHC",
        "colab_type": "code",
        "colab": {}
      },
      "cell_type": "code",
      "source": [
        ""
      ],
      "execution_count": 0,
      "outputs": []
    }
  ]
}