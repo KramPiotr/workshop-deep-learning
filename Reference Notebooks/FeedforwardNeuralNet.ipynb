{
  "nbformat": 4,
  "nbformat_minor": 0,
  "metadata": {
    "colab": {
      "name": "FeedforwardNeuralNet.ipynb",
      "version": "0.3.2",
      "provenance": [],
      "collapsed_sections": []
    },
    "kernelspec": {
      "display_name": "Python 3",
      "language": "python",
      "name": "python3"
    }
  },
  "cells": [
    {
      "metadata": {
        "id": "R9Dcw7yC_FTM",
        "colab_type": "text"
      },
      "cell_type": "markdown",
      "source": [
        "# Feedforward Neural Networks\n",
        "\n",
        "This notebook accompanies the Intro to Deep Learning workshop run by Hackers at Cambridge"
      ]
    },
    {
      "metadata": {
        "id": "0FSW41K5_FTN",
        "colab_type": "text"
      },
      "cell_type": "markdown",
      "source": [
        "## Importing Data and Dependencies\n",
        "\n",
        "\n",
        "First, we will import the dependencies - **numpy**, the python linear algebra library, **pandas** to load and preprocess the input data and **matplotlib** for visualisation purposes.\n",
        "\n",
        "We'll import the datasets using nice loader functions from **sklearn**."
      ]
    },
    {
      "metadata": {
        "id": "w2tsb3eK_FTP",
        "colab_type": "code",
        "colab": {}
      },
      "cell_type": "code",
      "source": [
        "import numpy as np\n",
        "import matplotlib.pyplot as plt\n",
        "from sklearn.datasets import load_boston,load_breast_cancer\n"
      ],
      "execution_count": 0,
      "outputs": []
    },
    {
      "metadata": {
        "id": "ozNhjbuS_FTT",
        "colab_type": "text"
      },
      "cell_type": "markdown",
      "source": [
        "We'll load the house dataset, using the load_boston(return_X_y=True) function. This returns our inputs $X$ and our labels $y$ as a tuple.\n",
        "If you read them in, you'll notice they're not the right dimensions, so you'll need to reshape them.\n",
        "\n",
        "It is also good practice to normalise the data (subtract mean and then divide by standard deviation) as this speeds up learning.\n",
        "\n",
        "Finally, split the data into training and test data sets (80:20 split) - we'll keep the test data to the side to evaluate our model at the end."
      ]
    },
    {
      "metadata": {
        "id": "XUe4J9h8BRwd",
        "colab_type": "code",
        "colab": {}
      },
      "cell_type": "code",
      "source": [
        "X,y = load_boston(return_X_y=True)\n",
        "#X,y = load_breast_cancer(return_X_y=True)\n",
        "\n",
        "# make sure dimensions are right\n",
        "X = X.T\n",
        "y = np.reshape(y, (1,y.shape[0]))\n",
        "\n",
        "\n",
        "#normalise the data\n",
        "mean = np.mean(X, axis=1, keepdims=True)\n",
        "std = np.std(X, axis=1,keepdims = True)\n",
        "X -=mean\n",
        "X /= std\n",
        "\n",
        "#split data into train and test set\n",
        "X_train = X[:,:4*X.shape[0]//5]\n",
        "Y_train = y[:,:4*X.shape[0]//5]\n",
        "\n",
        "X_test = X[:,4*X.shape[0]//5:]\n",
        "Y_test = y[:,4*X.shape[0]//5:]\n"
      ],
      "execution_count": 0,
      "outputs": []
    },
    {
      "metadata": {
        "id": "Pe4zmPEu_FTc",
        "colab_type": "text"
      },
      "cell_type": "markdown",
      "source": [
        "## Creating the neural network:\n",
        "\n",
        "Having preprocessed our data into matrices, it is now time to create the feedforward neural network. "
      ]
    },
    {
      "metadata": {
        "id": "sUfdUeJQ_FTd",
        "colab_type": "text"
      },
      "cell_type": "markdown",
      "source": [
        "First we need to initialise parameters: the weights and biases for each layer.\n",
        "\n",
        "The weights for layer *$l$* are stored in *$ W^{[l]}$*, a *$n_l$ x $n_{(l-1)}$* matrix, where *$n_l$* is the number of units in layer *$l$*. \n",
        "We  initialise the weights randomly to break symmetry, and multiply by 0.001 to ensure weights aren't too large.\n",
        "\n",
        "The biases for layer *$l$* are stored in *$ b^{[l]}$*, which is a *$n_l$ x 1* matrix."
      ]
    },
    {
      "metadata": {
        "id": "fQI5mNln_FTf",
        "colab_type": "code",
        "colab": {}
      },
      "cell_type": "code",
      "source": [
        "def initialise_parameters(layers_units):\n",
        "    parameters = {}            # create a dictionary containing the parameters\n",
        "    for l in range(1, len(layers_units)):\n",
        "        parameters['W' + str(l)] = 0.001* np.random.randn(layers_units[l],layers_units[l-1])\n",
        "        parameters['b' + str(l)] = np.zeros((layers_units[l],1))\n",
        "    return parameters"
      ],
      "execution_count": 0,
      "outputs": []
    },
    {
      "metadata": {
        "id": "QBvP-WeS_FTi",
        "colab_type": "text"
      },
      "cell_type": "markdown",
      "source": [
        "The activation function $g(z)$ we will be using is the ReLU function $g(z) = max(0,z)$ in the hidden layers.\n",
        "\n",
        "\n",
        "NB: Although the ReLU function is technically non-differentiable when $z=0$, in practice we can set the derivative=0 at $z=0$."
      ]
    },
    {
      "metadata": {
        "id": "-zS22wKC_FTj",
        "colab_type": "code",
        "colab": {}
      },
      "cell_type": "code",
      "source": [
        "def sigmoid(z):\n",
        "    return 1/(1+np.exp(-z))\n",
        "\n",
        "def relu(z, deriv = False):\n",
        "    if(deriv):  \n",
        "        return z>0\n",
        "    else:\n",
        "        return np.multiply(z, z>0)"
      ],
      "execution_count": 0,
      "outputs": []
    },
    {
      "metadata": {
        "id": "Xdw2iwNX_FTl",
        "colab_type": "text"
      },
      "cell_type": "markdown",
      "source": [
        "We can now write the code for the forward propagation step.\n",
        "\n",
        "In each layer $l$ , we matrix multiply the output of the previous layer $A^{(l-1)}$  by a weight matrix $W^{(l)}$ and then add a bias term $b^{(l)}$. We then take the result $Z^{(l)}$ and apply the activation function $g(z)$ to it to get the output $A^{(l)}$. $L$ = number of layers.\n",
        "\n",
        "The equations are thus:\n",
        "$$Z^{(l)}=W^{[l]}A^{([l-1]} + b^{[l]}$$\n",
        "$$A^{[l]}=g(Z^{[l]})$$\n"
      ]
    },
    {
      "metadata": {
        "id": "G1mGl8Ol_FTl",
        "colab_type": "code",
        "colab": {}
      },
      "cell_type": "code",
      "source": [
        "def forward_propagation(X,parameters):\n",
        "    cache = {}\n",
        "    L = len(parameters)//2 #final layer\n",
        "    cache[\"A0\"] = X #ease of notation since input = layer 0\n",
        "    for l in range(1, L):\n",
        "        cache['Z' + str(l)] = np.dot(parameters['W' + str(l)],cache['A' + str(l-1)]) + parameters['b' + str(l)]\n",
        "        cache['A' + str(l)] = relu(cache['Z' + str(l)])\n",
        "    #final layer\n",
        "    cache['Z' + str(L)] = np.dot(parameters['W' + str(L)],cache['A' + str(L-1)]) + parameters['b' + str(L)]\n",
        "    cache['A' + str(L)] =cache['Z' + str(L)] \n",
        "    return cache "
      ],
      "execution_count": 0,
      "outputs": []
    },
    {
      "metadata": {
        "id": "jwuBdFF9_FTo",
        "colab_type": "text"
      },
      "cell_type": "markdown",
      "source": [
        "## Implementing the Learning \n",
        "\n",
        "\n",
        "$m$ = number of training examples, $(x^{(i)},y^{(i)})$ is the $i^{th}$ training example, $a^{[L](i)}$ is the output of the final layer $L$ for that $i^{th}$ training example.\n",
        "\n",
        "\n",
        "**Mean Squared Error:**\n",
        "\n",
        "$$ J(W^{(1)}, b^{(1)},...) = \\frac{1}{2m} \\sum_{i=1}^{m} (a^{[L](i)} - y^{(i)})^2 $$\n"
      ]
    },
    {
      "metadata": {
        "id": "h614AF-__FTp",
        "colab_type": "code",
        "colab": {}
      },
      "cell_type": "code",
      "source": [
        "def cost_function(AL,Y):\n",
        "    m = Y.shape[1]\n",
        "    cost = (1/(2*m))*(np.sum(np.square(AL-Y)))\n",
        "    return cost"
      ],
      "execution_count": 0,
      "outputs": []
    },
    {
      "metadata": {
        "id": "GTMg3uoB_FTs",
        "colab_type": "text"
      },
      "cell_type": "markdown",
      "source": [
        "### Backpropagation:\n",
        "\n",
        "Calculating the gradients:\n",
        "\n",
        "For the final layer:\n",
        "\n",
        "$$\\frac{\\partial \\mathcal{J} }{\\partial Z^{(L)}} = A^{(L)} - Y$$ \n",
        "\n",
        "\n",
        "For a general layer $l$, \n",
        "\n",
        "$$ \\frac{\\partial \\mathcal{J} }{\\partial Z^{[l]}} = \\frac{\\partial \\mathcal{J} }{\\partial A^{[l]}}*g^{'}(Z^{[l]})$$\n",
        "\n",
        "$$ \\frac{\\partial \\mathcal{J} }{\\partial W^{[l]}} = \\frac{1}{m}\\frac{\\partial \\mathcal{J} }{\\partial Z^{[l]}} A^{[l-1] T} $$\n",
        "\n",
        "$$ \\frac{\\partial \\mathcal{J} }{\\partial b^{(l)}} = \\frac{1}{m} \\sum_{i = 1}^{m} \\frac{\\partial \\mathcal{J} }{\\partial Z^{(l)(i)}}$$\n",
        "\n",
        "$$ \\frac{\\partial \\mathcal{J} }{\\partial A^{[l-1]}} = W^{[l] T} \\frac{\\partial \\mathcal{J} }{\\partial Z^{[l]}} $$\n",
        "\n",
        "<br>\n",
        "\n",
        "If you are keen, it's a good exercise to derive them yourself or alternatively check this [post](https://mukul-rathi.github.io/2018/08/31/Backpropagation.html) for a deeper dive into the intuition behind it.\n"
      ]
    },
    {
      "metadata": {
        "id": "JMoNeqUU_FTt",
        "colab_type": "code",
        "colab": {}
      },
      "cell_type": "code",
      "source": [
        "def backpropagation(cache,Y,parameters):\n",
        "    L = len(parameters)//2 \n",
        "    m = Y.shape[1]\n",
        "    grads = {}\n",
        "    #code up the last layer explicitly \n",
        "    grads[\"dZ\" + str(L)]= cache[\"A\" + str(L)] - Y\n",
        "    grads[\"dW\" + str(L)]= (1/m)*np.dot(grads[\"dZ\" + str(L)],cache[\"A\" + str(L-1)].T) \n",
        "    grads[\"db\" + str(L)]= (1/m)*np.sum(grads[\"dZ\" + str(L)],axis=1,keepdims=True)\n",
        "    for l in range(L-1,0,-1):\n",
        "        grads[\"dA\" + str(l)]= np.dot(parameters[\"W\" + str(l+1)].T,grads[\"dZ\" + str(l+1)])\n",
        "        grads[\"dZ\" + str(l)]= np.multiply(grads[\"dA\" + str(l)], relu(cache[\"Z\" + str(l)], deriv = True))\n",
        "        grads[\"dW\" + str(l)]= (1/m)*np.dot(grads[\"dZ\" + str(l)],cache[\"A\" + str(l-1)].T) \n",
        "        grads[\"db\" + str(l)]= (1/m)*np.sum(grads[\"dZ\" + str(l)],axis=1,keepdims=True)\n",
        "    return grads"
      ],
      "execution_count": 0,
      "outputs": []
    },
    {
      "metadata": {
        "collapsed": true,
        "id": "FtDypLdm_FTz",
        "colab_type": "text"
      },
      "cell_type": "markdown",
      "source": [
        "### Gradient Descent\n",
        "\n",
        "Now let's combine the functions created so far to create a model and train it using  gradient descent. \n",
        "\n",
        "\n",
        "The update equations for the parameters are as follows:\n",
        "$$ W^{[l]} = W^{[l]} - \\alpha \\frac{\\partial \\mathcal{J} }{\\partial W^{[l]}} $$\n",
        "\n",
        "$$ b^{[l]} = b^{[l]} - \\alpha \\frac{\\partial \\mathcal{J} }{\\partial b^{[l]}} $$\n",
        "\n",
        "where $\\alpha$ is the learning rate parameter."
      ]
    },
    {
      "metadata": {
        "id": "DPXbsDfq_FTz",
        "colab_type": "code",
        "colab": {}
      },
      "cell_type": "code",
      "source": [
        "def train_model(X_train, Y_train,num_epochs,layers_units,learning_rate): #epoch = one cycle through the dataset\n",
        "    train_costs = []\n",
        "    \n",
        "    parameters = initialise_parameters(layers_units)\n",
        "    L = len(layers_units)-1 \n",
        "    for epoch in range (num_epochs):\n",
        "        #perform one cycle of forward and backward propagation to get the partial derivatives w.r.t. the weights\n",
        "        #and biases. Calculate the cost - used to monitor training\n",
        "        cache = forward_propagation(X_train,parameters)\n",
        "        cost = cost_function(cache[\"A\" + str(L)],Y_train)\n",
        "        grads = backpropagation(cache,Y_train,parameters)\n",
        "\n",
        "        #iterate through and update the parameters using gradient descent\n",
        "        for l in range(1,L+1):\n",
        "            parameters[\"W\" + str(l)] = parameters[\"W\" + str(l)] - learning_rate*grads[\"dW\" + str(l)]\n",
        "            parameters[\"W\" + str(l)] = parameters[\"W\" + str(l)] - learning_rate*grads[\"db\" + str(l)]\n",
        "\n",
        "        #periodically output an update on the current cost and performance on the dev set for visualisation\n",
        "        train_costs.append(cost)\n",
        "        if(epoch%(num_epochs//10)==0):\n",
        "            print(\"Training the model, epoch: \" + str(epoch+1))\n",
        "            print(\"Cost after epoch \" + str((epoch)) + \": \" + str(cost))\n",
        "    print(\"Training complete!\")\n",
        "    #return the trained parameters and the visualisation metrics\n",
        "    return parameters, train_costs"
      ],
      "execution_count": 0,
      "outputs": []
    },
    {
      "metadata": {
        "id": "lhvigzxs_FT1",
        "colab_type": "text"
      },
      "cell_type": "markdown",
      "source": [
        "To evaluate the model, we'll visualise the training set error over the number of iterations. We then output the final value of the evaluation metric for training and test sets. (I've used *matplotlib* to plot the graph)."
      ]
    },
    {
      "metadata": {
        "id": "z6Pfr4gB_FT1",
        "colab_type": "code",
        "colab": {}
      },
      "cell_type": "code",
      "source": [
        "def evaluate_model(train_costs,parameters,X_train, Y_train, X_test, Y_test):\n",
        "    #plot the graphs of training set error\n",
        "    plt.plot(np.squeeze(train_costs))\n",
        "    plt.ylabel('Cost')\n",
        "    plt.xlabel('Iterations')\n",
        "    plt.title(\"Training Set Error\")\n",
        "    plt.show()\n",
        "    L = len(parameters)//2\n",
        "    \n",
        "    #For train and test sets, perform a step of forward propagation to obtain the trained model's \n",
        "    #predictions and evaluate this\n",
        "    \n",
        "    train_cache = forward_propagation(X_train,parameters)\n",
        "    train_AL = train_cache[\"A\"+ str(L)]\n",
        "    \n",
        "    print(\"The train set MSE is: \"+str(cost_function(train_AL,Y_train)))\n",
        "        \n",
        "    test_cache = forward_propagation(X_test,parameters)\n",
        "    test_AL = test_cache[\"A\"+ str(L)]\n",
        "    \n",
        "    print(\"The test set MSE is: \"+str(cost_function(test_AL,Y_test)))\n",
        "    "
      ],
      "execution_count": 0,
      "outputs": []
    },
    {
      "metadata": {
        "id": "7qHYA2ql8kX-",
        "colab_type": "text"
      },
      "cell_type": "markdown",
      "source": [
        "## Training the model\n",
        "\n",
        "Now it's time to train the model using our helper functions.\n",
        "\n",
        "Let's define our hyperparameters - I encourage you to play around with these - e.g. add more layers, change number of iterations.\n",
        "\n",
        "You might find the model does much worse on the test set - this is called **overfitting** - again you can read up more about it [here](https://mukul-rathi.github.io/2018/09/02/DebuggingLearningCurve.html)\n",
        "\n"
      ]
    },
    {
      "metadata": {
        "id": "vQwKmiqV_FT6",
        "colab_type": "code",
        "colab": {}
      },
      "cell_type": "code",
      "source": [
        "#define the hyperparameters for the model\n",
        "num_epochs = 1500 #number of passes through the training set\n",
        "layers_units = [X.shape[0], 1] #layer 0 is the input layer - each value in list = number of nodes in that layer\n",
        "learning_rate = 1e-4\n"
      ],
      "execution_count": 0,
      "outputs": []
    },
    {
      "metadata": {
        "id": "few8mbeH_FT8",
        "colab_type": "code",
        "outputId": "d1f75e8b-f9e2-4100-b5c1-80e1b8ae3266",
        "colab": {
          "base_uri": "https://localhost:8080/",
          "height": 374
        }
      },
      "cell_type": "code",
      "source": [
        "parameters, train_costs = train_model(X_train, Y_train ,num_epochs,layers_units,learning_rate)         "
      ],
      "execution_count": 0,
      "outputs": [
        {
          "output_type": "stream",
          "text": [
            "Training the model, epoch: 1\n",
            "Cost after epoch 0: 422.1854325453298\n",
            "Training the model, epoch: 151\n",
            "Cost after epoch 150: 407.5641428446872\n",
            "Training the model, epoch: 301\n",
            "Cost after epoch 300: 393.5574120947215\n",
            "Training the model, epoch: 451\n",
            "Cost after epoch 450: 380.14019939125455\n",
            "Training the model, epoch: 601\n",
            "Cost after epoch 600: 367.2884871287632\n",
            "Training the model, epoch: 751\n",
            "Cost after epoch 750: 354.9792381524502\n",
            "Training the model, epoch: 901\n",
            "Cost after epoch 900: 343.1903547592035\n",
            "Training the model, epoch: 1051\n",
            "Cost after epoch 1050: 331.90063946539135\n",
            "Training the model, epoch: 1201\n",
            "Cost after epoch 1200: 321.08975746316537\n",
            "Training the model, epoch: 1351\n",
            "Cost after epoch 1350: 310.73820069050515\n",
            "Training complete!\n"
          ],
          "name": "stdout"
        }
      ]
    },
    {
      "metadata": {
        "id": "HxRFpsk0Kd9D",
        "colab_type": "code",
        "outputId": "2b059dca-42ca-47bd-9a18-d80eb5d5bfe9",
        "colab": {
          "base_uri": "https://localhost:8080/",
          "height": 410
        }
      },
      "cell_type": "code",
      "source": [
        "evaluate_model(train_costs,parameters,X_train, Y_train, X_test, Y_test)"
      ],
      "execution_count": 0,
      "outputs": [
        {
          "output_type": "display_data",
          "data": {
            "image/png": "[encoded data removed]",
            "text/plain": [
              "<matplotlib.figure.Figure at 0x7f810ee57630>"
            ]
          },
          "metadata": {
            "tags": []
          }
        },
        {
          "output_type": "stream",
          "text": [
            "The train set MSE is: 300.8272534436269\n",
            "The test set MSE is: 308.07231173135284\n"
          ],
          "name": "stdout"
        }
      ]
    },
    {
      "metadata": {
        "id": "2U7b7ebN9cRP",
        "colab_type": "text"
      },
      "cell_type": "markdown",
      "source": [
        "## Summary and Extensions:\n",
        "\n",
        "## Summary and Extensions:\n",
        "\n",
        "You've just trained your first deep learning model! As an extension, try running the code again, but this time, use the **load_cancer()** function instead of **load boston()**. This is a dataset that classifies breast cancer as malignant/benign.\n",
        "\n",
        "Remember that sigmoid function in the lectures? We can use it to predict probabilities for classification, so all you need to do is apply it to the output of the final layer.\n",
        "\n",
        "A couple of other minor tweaks - for classification, the network uses the **cross-entropy loss** as a cost function instead of mean-square error, and you'll want to print out accuracy not MSE in the evaluation function. \n",
        "\n",
        "But the cool thing is that the network structure is the **same**! The same network, just with a sigmoid function applied to the output, can be trained on a *completely different task* and still work.\n",
        "\n",
        "That's the power of deep learning! Stay tuned for future workshops on specialised deep learning models for computer vision and natural language processing. If you want to dive deeper, head over to the [blog](http://mukul-rathi.github.io/blog.html)."
      ]
    },
    {
      "metadata": {
        "id": "SI2k1ZTt_PRV",
        "colab_type": "code",
        "colab": {}
      },
      "cell_type": "code",
      "source": [
        ""
      ],
      "execution_count": 0,
      "outputs": []
    }
  ]
}