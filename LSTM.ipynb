{
  "nbformat": 4,
  "nbformat_minor": 0,
  "metadata": {
    "colab": {
      "name": "LSTM.ipynb",
      "version": "0.3.2",
      "provenance": [],
      "collapsed_sections": [],
      "include_colab_link": true
    },
    "kernelspec": {
      "name": "python3",
      "display_name": "Python 3"
    },
    "accelerator": "GPU"
  },
  "cells": [
    {
      "cell_type": "markdown",
      "metadata": {
        "id": "view-in-github",
        "colab_type": "text"
      },
      "source": [
        "[View in Colaboratory](https://colab.research.google.com/github/mukul-rathi/workshop-deep-learning/blob/master/LSTM.ipynb)"
      ]
    },
    {
      "metadata": {
        "id": "S3NOjcDJun6V",
        "colab_type": "text"
      },
      "cell_type": "markdown",
      "source": [
        "# LSTM \n",
        "\n",
        "This is the notebook accompanying the LSTM workshop. \n",
        "\n",
        "\n"
      ]
    },
    {
      "metadata": {
        "id": "8_IsUj_aulCK",
        "colab_type": "code",
        "colab": {}
      },
      "cell_type": "code",
      "source": [
        "import numpy as np\n",
        "\n",
        "#import the keras functions\n",
        "from keras.preprocessing import sequence\n",
        "from keras.models import Model, Sequential\n",
        "from keras.layers import  Input, Embedding, Dense, LSTM\n",
        "from keras.optimizers import Adam\n",
        "from  keras.utils import to_categorical as OneHotEncode\n",
        "\n",
        "#import the IMDB dataset\n",
        "from keras.datasets import imdb"
      ],
      "execution_count": 0,
      "outputs": []
    },
    {
      "metadata": {
        "id": "zrqO7kqGvCNU",
        "colab_type": "text"
      },
      "cell_type": "markdown",
      "source": [
        "Now to import the data:"
      ]
    },
    {
      "metadata": {
        "id": "h82QS2d_vA_G",
        "colab_type": "code",
        "colab": {}
      },
      "cell_type": "code",
      "source": [
        "max_features = 20000\n",
        "maxlen = 80\n",
        "\n",
        "(x_train, y_train), (x_test, y_test) = imdb.load_data(num_words=max_features)\n",
        "\n",
        "\n",
        "#Preprocess the data so the same length (padding as necessary)\n",
        "x_train = sequence.pad_sequences(x_train, maxlen=maxlen)\n",
        "x_test = sequence.pad_sequences(x_test, maxlen=maxlen)\n",
        "\n"
      ],
      "execution_count": 0,
      "outputs": []
    },
    {
      "metadata": {
        "id": "i2QEMfqFvajF",
        "colab_type": "code",
        "colab": {}
      },
      "cell_type": "code",
      "source": [
        "def initLSTM():\n",
        "  rnn = Sequential()\n",
        "  rnn.add(Embedding(max_features, 128)) #word embeddings for each of words in input\n",
        "  rnn.add(LSTM(128, recurrent_dropout = 0.2)) #LSTM cell\n",
        "  rnn.add(Dense(1, activation='sigmoid')) #output prediction\n",
        "  return rnn\n"
      ],
      "execution_count": 0,
      "outputs": []
    },
    {
      "metadata": {
        "id": "MDx9oKxFvNyx",
        "colab_type": "code",
        "colab": {}
      },
      "cell_type": "code",
      "source": [
        "rnn = initLSTM()"
      ],
      "execution_count": 0,
      "outputs": []
    },
    {
      "metadata": {
        "id": "yU_rceWVvgqJ",
        "colab_type": "text"
      },
      "cell_type": "markdown",
      "source": [
        "Next to compile and train the model:\n"
      ]
    },
    {
      "metadata": {
        "id": "-Ll4K56DvIYU",
        "colab_type": "code",
        "colab": {
          "base_uri": "https://localhost:8080/",
          "height": 221
        },
        "outputId": "a28ed285-5894-4323-deb4-67b1386f2fe1"
      },
      "cell_type": "code",
      "source": [
        "# try using different optimizers and different optimizer configs\n",
        "rnn.compile(loss='binary_crossentropy',\n",
        "              optimizer='adam',\n",
        "              metrics=['accuracy'])\n",
        "\n",
        "rnn.fit(x_train, y_train,\n",
        "          batch_size=512,\n",
        "          epochs=5,\n",
        "          validation_data=(x_test, y_test))\n",
        "\n"
      ],
      "execution_count": 14,
      "outputs": [
        {
          "output_type": "stream",
          "text": [
            "Train on 25000 samples, validate on 25000 samples\n",
            "Epoch 1/5\n",
            "25000/25000 [==============================] - 20s 810us/step - loss: 0.5714 - acc: 0.7129 - val_loss: 0.4028 - val_acc: 0.8292\n",
            "Epoch 2/5\n",
            "25000/25000 [==============================] - 18s 728us/step - loss: 0.3280 - acc: 0.8678 - val_loss: 0.3694 - val_acc: 0.8366\n",
            "Epoch 3/5\n",
            "25000/25000 [==============================] - 18s 709us/step - loss: 0.2425 - acc: 0.9064 - val_loss: 0.4125 - val_acc: 0.8321\n",
            "Epoch 4/5\n",
            "25000/25000 [==============================] - 18s 723us/step - loss: 0.1916 - acc: 0.9315 - val_loss: 0.4210 - val_acc: 0.8265\n",
            "Epoch 5/5\n",
            "25000/25000 [==============================] - 19s 758us/step - loss: 0.1586 - acc: 0.9449 - val_loss: 0.5329 - val_acc: 0.8181\n"
          ],
          "name": "stdout"
        },
        {
          "output_type": "execute_result",
          "data": {
            "text/plain": [
              "<keras.callbacks.History at 0x7fccaffd58d0>"
            ]
          },
          "metadata": {
            "tags": []
          },
          "execution_count": 14
        }
      ]
    },
    {
      "metadata": {
        "id": "wt6nprr1wBml",
        "colab_type": "code",
        "colab": {
          "base_uri": "https://localhost:8080/",
          "height": 51
        },
        "outputId": "e401440b-24d9-4bfa-b2ff-e67b547b09af"
      },
      "cell_type": "code",
      "source": [
        "score, acc = rnn.evaluate(x_test, y_test,\n",
        "                            batch_size=512)\n",
        "print(\"Test accuracy: \" + str(acc))"
      ],
      "execution_count": 17,
      "outputs": [
        {
          "output_type": "stream",
          "text": [
            "25000/25000 [==============================] - 4s 161us/step\n",
            "Test accuracy: 0.8181199995803833\n"
          ],
          "name": "stdout"
        }
      ]
    },
    {
      "metadata": {
        "id": "hkjWBEzMxitT",
        "colab_type": "code",
        "colab": {}
      },
      "cell_type": "code",
      "source": [
        ""
      ],
      "execution_count": 0,
      "outputs": []
    }
  ]
}