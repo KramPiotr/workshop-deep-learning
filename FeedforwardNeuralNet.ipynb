{
  "nbformat": 4,
  "nbformat_minor": 0,
  "metadata": {
    "colab": {
      "name": "FeedforwardNeuralNet.ipynb",
      "version": "0.3.2",
      "provenance": [],
      "collapsed_sections": [],
      "include_colab_link": true
    },
    "kernelspec": {
      "display_name": "Python 3",
      "language": "python",
      "name": "python3"
    }
  },
  "cells": [
    {
      "cell_type": "markdown",
      "metadata": {
        "id": "view-in-github",
        "colab_type": "text"
      },
      "source": [
        "<a href=\"https://colab.research.google.com/github/mukul-rathi/workshop-deep-learning/blob/master/FeedforwardNeuralNet.ipynb\" target=\"_parent\"><img src=\"https://colab.research.google.com/assets/colab-badge.svg\" alt=\"Open In Colab\"/></a>"
      ]
    },
    {
      "metadata": {
        "id": "R9Dcw7yC_FTM",
        "colab_type": "text"
      },
      "cell_type": "markdown",
      "source": [
        "# Feedforward Neural Networks\n",
        "\n",
        "This Jupyter notebook accompanies the blog post on Feedforward Neural Networks"
      ]
    },
    {
      "metadata": {
        "id": "0FSW41K5_FTN",
        "colab_type": "text"
      },
      "cell_type": "markdown",
      "source": [
        "First, we will import the dependencies - **numpy**, the python linear algebra library, **pandas** to load and preprocess the input data and **matplotlib** for visualisation purposes."
      ]
    },
    {
      "metadata": {
        "id": "w2tsb3eK_FTP",
        "colab_type": "code",
        "colab": {}
      },
      "cell_type": "code",
      "source": [
        "import numpy as np\n",
        "import pandas as pd\n",
        "import matplotlib.pyplot as plt\n",
        "from sklearn.datasets import load_boston,load_breast_cancer\n"
      ],
      "execution_count": 0,
      "outputs": []
    },
    {
      "metadata": {
        "id": "ozNhjbuS_FTT",
        "colab_type": "text"
      },
      "cell_type": "markdown",
      "source": [
        " First, the house dataset - this is the dataset we used for linear regression."
      ]
    },
    {
      "metadata": {
        "id": "XUe4J9h8BRwd",
        "colab_type": "code",
        "colab": {}
      },
      "cell_type": "code",
      "source": [
        "X,y = load_boston(return_X_y=True)\n",
        "#X,y = load_breast_cancer(return_X_y=True)\n",
        "\n",
        "# make sure dimensions are right\n",
        "X = X.T\n",
        "y = np.reshape(y, (1,y.shape[0]))\n",
        "\n",
        "\n",
        "#normalise the data\n",
        "mean = np.mean(X, axis=1, keepdims=True)\n",
        "std = np.std(X, axis=1,keepdims = True)\n",
        "X -=mean\n",
        "X /= std\n",
        "\n",
        "\n",
        "X_train = X[:,:2*X.shape[0]//3]\n",
        "Y_train = y[:,:2*X.shape[0]//3]\n",
        "\n",
        "X_test = X[:,2*X.shape[0]//3:]\n",
        "Y_test = y[:,2*X.shape[0]//3:]\n"
      ],
      "execution_count": 0,
      "outputs": []
    },
    {
      "metadata": {
        "id": "Pe4zmPEu_FTc",
        "colab_type": "text"
      },
      "cell_type": "markdown",
      "source": [
        "# Creating the neural network:\n",
        "\n",
        "Having preprocessed our data into matrices, it is now time to create the feedforward neural network. "
      ]
    },
    {
      "metadata": {
        "id": "sUfdUeJQ_FTd",
        "colab_type": "text"
      },
      "cell_type": "markdown",
      "source": [
        "First we need to initialise parameters: the weights and biases for each layer.\n",
        "\n",
        "The weights for layer *$l$* are stored in *$ W^{(l)}$*, a *$n_l$ x $n_{(l-1)}$* matrix, where *$n_l$* is the number of units in layer *$l$*. \n",
        "We  initialise the weights randomly from a Gaussian distribution ($\\mu=0, \\sigma =1$) to break symmetry, and multiply by 0.001 to ensure weights aren't too large.\n",
        "\n",
        "The biases for layer *$l$* are stored in *$ b^{(l)}$*, which is a *$n_l$ x 1* matrix."
      ]
    },
    {
      "metadata": {
        "id": "fQI5mNln_FTf",
        "colab_type": "code",
        "colab": {}
      },
      "cell_type": "code",
      "source": [
        "def initialise_parameters(layers_units):\n",
        "    parameters = {}            # create a dictionary containing the parameters\n",
        "    for l in range(1, len(layers_units)):\n",
        "        parameters['W' + str(l)] = 0.001* np.random.randn(layers_units[l],layers_units[l-1])\n",
        "        parameters['b' + str(l)] = np.zeros((layers_units[l],1))\n",
        "    return parameters"
      ],
      "execution_count": 0,
      "outputs": []
    },
    {
      "metadata": {
        "id": "QBvP-WeS_FTi",
        "colab_type": "text"
      },
      "cell_type": "markdown",
      "source": [
        "The activation function $g(z)$ we will be using is the ReLU function $g(z) = max(0,z)$ in the hidden layers.\n",
        "\n",
        "<br> The only difference in the neural net between regression and classification is the final layer - whether we use the sigmoid function in the final layer, depending on whether we want to do regression or classification. \n",
        "\n",
        "NB: Although the ReLU function is technically non-differentiable when $z=0$, in practice we can set the derivative=0 at $z=0$."
      ]
    },
    {
      "metadata": {
        "id": "-zS22wKC_FTj",
        "colab_type": "code",
        "colab": {}
      },
      "cell_type": "code",
      "source": [
        "def sigmoid(z):\n",
        "    return 1/(1+np.exp(-z))\n",
        "\n",
        "def relu(z, deriv = False):\n",
        "    if(deriv):\n",
        "        return z>0\n",
        "    else:\n",
        "        return np.multiply(z, z>0)"
      ],
      "execution_count": 0,
      "outputs": []
    },
    {
      "metadata": {
        "id": "Xdw2iwNX_FTl",
        "colab_type": "text"
      },
      "cell_type": "markdown",
      "source": [
        "We can now write the code for the forward propagation step.\n",
        "\n",
        "In each layer $l$ , we matrix multiply the output of the previous layer $A^{(l-1)}$  by a weight matrix $W^{(l)}$ and then add a bias term $b^{(l)}$. We then take the result $Z^{(l)}$ and apply the activation function $g(z)$ to it to get the output $A^{(l)}$. $L$ = number of layers.\n",
        "The equations are thus:\n",
        "$$Z^{(l)}=W^{(l)}A^{(l-1)}$$\n",
        "$$A^{(l)}=g(Z^{(l)})$$\n"
      ]
    },
    {
      "metadata": {
        "id": "G1mGl8Ol_FTl",
        "colab_type": "code",
        "colab": {}
      },
      "cell_type": "code",
      "source": [
        "def forward_propagation(X,parameters):\n",
        "    cache = {}\n",
        "    L = len(parameters)//2 #final layer\n",
        "    cache[\"A0\"] = X #ease of notation since input = layer 0\n",
        "    for l in range(1, L):\n",
        "        cache['Z' + str(l)] = np.dot(parameters['W' + str(l)],cache['A' + str(l-1)]) + parameters['b' + str(l)]\n",
        "        cache['A' + str(l)] = relu(cache['Z' + str(l)])\n",
        "    #final layer\n",
        "    cache['Z' + str(L)] = np.dot(parameters['W' + str(L)],cache['A' + str(L-1)]) + parameters['b' + str(L)]\n",
        "    cache['A' + str(L)] =cache['Z' + str(L)] \n",
        "    return cache "
      ],
      "execution_count": 0,
      "outputs": []
    },
    {
      "metadata": {
        "id": "jwuBdFF9_FTo",
        "colab_type": "text"
      },
      "cell_type": "markdown",
      "source": [
        "Next we can compute the loss function - this is the objective function the neural network will aim to minimise during training:\n",
        "\n",
        "$m$ = number of training examples, $(x^{(i)},y^{(i)})$ is the $i^{th}$ training example.\n",
        "<br> For regression: \n",
        "$$ J(W^{(1)}, b^{(1)},...) = \\frac{1}{2m} \\sum_{i=1}^{m} (a^{(L) (i)} - y^{(i)})^2 $$\n",
        "\n",
        "\n",
        "For classification: \n",
        "\n",
        "$$J(W^{(1)}, b^{(1)},...) = -\\frac{1}{m} \\sum\\limits_{i = 1}^{m} y^{(i)}\\log\\left(a^{(L) (i)}\\right) + (1-y^{(i)})\\log\\left(1- a^{(L)(i)}\\right) $$\n",
        "\n"
      ]
    },
    {
      "metadata": {
        "id": "h614AF-__FTp",
        "colab_type": "code",
        "colab": {}
      },
      "cell_type": "code",
      "source": [
        "def cost_function(AL,Y):\n",
        "    m = Y.shape[1]\n",
        "    cost = (1/(2*m))*(np.sum(np.square(AL-Y)))\n",
        "    return cost"
      ],
      "execution_count": 0,
      "outputs": []
    },
    {
      "metadata": {
        "id": "GTMg3uoB_FTs",
        "colab_type": "text"
      },
      "cell_type": "markdown",
      "source": [
        "Now we will code the backpropagation algorithm. This will enable us to calculate the partial derivative of the cost function with respect to each of the weights and biases in each of the layers of the network. The equations can be derived using the multivariable chain rule and are the same for both regression and classification:\n",
        "$$\\frac{\\partial \\mathcal{J} }{\\partial Z^{(L)}} = A^{(L)} - Y$$ \n",
        "\n",
        "\n",
        "$$ \\frac{\\partial \\mathcal{J} }{\\partial W^{(l)}} = \\frac{1}{m}\\frac{\\partial \\mathcal{J} }{\\partial Z^{(l)}} A^{(l-1) T} $$\n",
        "\n",
        "$$ \\frac{\\partial \\mathcal{J} }{\\partial b^{(l)}} = \\frac{1}{m} \\sum_{i = 1}^{m} \\frac{\\partial \\mathcal{J} }{\\partial Z^{(l)(i)}}$$\n",
        "\n",
        "$$ \\frac{\\partial \\mathcal{J} }{\\partial A^{(l-1)}} = W^{(l) T} \\frac{\\partial \\mathcal{J} }{\\partial Z^{(l)}} $$\n",
        "$$ \\frac{\\partial \\mathcal{J} }{\\partial Z^{(l-1)}} = \\frac{\\partial \\mathcal{J} }{\\partial A^{(l-1)}}*g^{'}(Z^{(l-1)})$$\n",
        "\n",
        "\n"
      ]
    },
    {
      "metadata": {
        "id": "JMoNeqUU_FTt",
        "colab_type": "code",
        "colab": {}
      },
      "cell_type": "code",
      "source": [
        "def backpropagation(cache,Y,parameters):\n",
        "    L = len(parameters)//2 \n",
        "    m = Y.shape[1]\n",
        "    grads = {}\n",
        "    grads[\"dZ\" + str(L)]= cache[\"A\" + str(L)] - Y\n",
        "    grads[\"dW\" + str(L)]= (1/m)*np.dot(grads[\"dZ\" + str(L)],cache[\"A\" + str(L-1)].T) \n",
        "    grads[\"db\" + str(L)]= (1/m)*np.sum(grads[\"dZ\" + str(L)],axis=1,keepdims=True)\n",
        "    for l in range(L-1,0,-1):\n",
        "        grads[\"dA\" + str(l)]= np.dot(parameters[\"W\" + str(l+1)].T,grads[\"dZ\" + str(l+1)])\n",
        "        grads[\"dZ\" + str(l)]= np.multiply(grads[\"dA\" + str(l)], relu(cache[\"Z\" + str(l)], deriv = True))\n",
        "        grads[\"dW\" + str(l)]= (1/m)*np.dot(grads[\"dZ\" + str(l)],cache[\"A\" + str(l-1)].T) \n",
        "        grads[\"db\" + str(l)]= (1/m)*np.sum(grads[\"dZ\" + str(l)],axis=1,keepdims=True)\n",
        "    return grads"
      ],
      "execution_count": 0,
      "outputs": []
    },
    {
      "metadata": {
        "id": "UULYlOSA_FTv",
        "colab_type": "text"
      },
      "cell_type": "markdown",
      "source": [
        "We need to have an evaluation metric to see if the model is actually learning.\n",
        "\n",
        "For regression, we use Mean Squared Error."
      ]
    },
    {
      "metadata": {
        "collapsed": true,
        "id": "FtDypLdm_FTz",
        "colab_type": "text"
      },
      "cell_type": "markdown",
      "source": [
        "Now let's combine the functions created so far to create a model and train it using  gradient descent. \n",
        "\n",
        "The update equations for the parameters are as follows:\n",
        "$$ W^{(l)} = W^{(l)} - \\alpha \\frac{\\partial \\mathcal{J} }{\\partial W^{(l)}} $$\n",
        "\n",
        "$$ b^{(l)} = b^{(l)} - \\alpha \\frac{\\partial \\mathcal{J} }{\\partial b^{(l)}} $$\n",
        "\n",
        "where $\\alpha$ is the learning rate parameter."
      ]
    },
    {
      "metadata": {
        "id": "DPXbsDfq_FTz",
        "colab_type": "code",
        "colab": {}
      },
      "cell_type": "code",
      "source": [
        "def train_model(X_train, Y_train,num_epochs,layers_units,learning_rate):\n",
        "    train_costs = []\n",
        "    \n",
        "    parameters = initialise_parameters(layers_units)\n",
        "    L = len(layers_units)-1 \n",
        "    for epoch in range (num_epochs):\n",
        "        #perform one cycle of forward and backward propagation to get the partial derivatives w.r.t. the weights\n",
        "        #and biases. Calculate the cost - used to monitor training\n",
        "        cache = forward_propagation(X_train,parameters)\n",
        "        cost = cost_function(cache[\"A\" + str(L)],Y_train)\n",
        "        grads = backpropagation(cache,Y_train,parameters)\n",
        "\n",
        "        #update the parameters using gradient descent\n",
        "        for l in range(1,L+1):\n",
        "            parameters[\"W\" + str(l)] = parameters[\"W\" + str(l)] - learning_rate*grads[\"dW\" + str(l)]\n",
        "            parameters[\"W\" + str(l)] = parameters[\"W\" + str(l)] - learning_rate*grads[\"db\" + str(l)]\n",
        "\n",
        "        #periodically output an update on the current cost and performance on the dev set for visualisation\n",
        "        train_costs.append(cost)\n",
        "        if(epoch%(num_epochs//10)==0):\n",
        "            print(\"Training the model, epoch: \" + str(epoch+1))\n",
        "            print(\"Cost after epoch \" + str((epoch)) + \": \" + str(cost))\n",
        "    print(\"Training complete!\")\n",
        "    #return the trained parameters and the visualisation metrics\n",
        "    return parameters, train_costs"
      ],
      "execution_count": 0,
      "outputs": []
    },
    {
      "metadata": {
        "id": "lhvigzxs_FT1",
        "colab_type": "text"
      },
      "cell_type": "markdown",
      "source": [
        "To evaluate the model, we visualise the training set error over the number of iterations. We then output the final value of the evaluation metric for training and test sets."
      ]
    },
    {
      "metadata": {
        "id": "z6Pfr4gB_FT1",
        "colab_type": "code",
        "colab": {}
      },
      "cell_type": "code",
      "source": [
        "def evaluate_model(train_costs,parameters,X_train, Y_train, X_test, Y_test):\n",
        "    #plot the graphs of training set error\n",
        "    plt.plot(np.squeeze(train_costs))\n",
        "    plt.ylabel('Cost')\n",
        "    plt.xlabel('Iterations')\n",
        "    plt.title(\"Training Set Error\")\n",
        "    plt.show()\n",
        "    L = len(parameters)//2\n",
        "    \n",
        "    #For train and test sets, perform a step of forward propagation to obtain the trained model's \n",
        "    #predictions and evaluate this\n",
        "    \n",
        "    train_cache = forward_propagation(X_train,parameters)\n",
        "    train_AL = train_cache[\"A\"+ str(L)]\n",
        "    \n",
        "    print(\"The train set MSE is: \"+str(cost_function(train_AL,Y_train)))\n",
        "        \n",
        "    test_cache = forward_propagation(X_test,parameters)\n",
        "    test_AL = test_cache[\"A\"+ str(L)]\n",
        "    \n",
        "    print(\"The test set MSE is: \"+str(cost_function(test_AL,Y_test)))\n",
        "    "
      ],
      "execution_count": 0,
      "outputs": []
    },
    {
      "metadata": {
        "id": "jLFSl4bt_FT3",
        "colab_type": "text"
      },
      "cell_type": "markdown",
      "source": [
        "We now can write the overall function to run the neural network - this ensures it is easy to run subsequent models by packaging all the functions into one line of code."
      ]
    },
    {
      "metadata": {
        "id": "vQwKmiqV_FT6",
        "colab_type": "code",
        "colab": {}
      },
      "cell_type": "code",
      "source": [
        "#define the hyperparameters for the model\n",
        "num_epochs = 1500 #number of passes through the training set\n",
        "layers_units = [X.shape[0], 1] #layer 0 is the input layer\n",
        "learning_rate = 1e-4\n"
      ],
      "execution_count": 0,
      "outputs": []
    },
    {
      "metadata": {
        "id": "few8mbeH_FT8",
        "colab_type": "code",
        "colab": {
          "base_uri": "https://localhost:8080/",
          "height": 374
        },
        "outputId": "8a9001e0-e4e4-4ff2-ab67-cdb26a66a39c"
      },
      "cell_type": "code",
      "source": [
        "parameters, train_costs = train_model(X_train, Y_train ,num_epochs,layers_units,learning_rate)         "
      ],
      "execution_count": 11,
      "outputs": [
        {
          "output_type": "stream",
          "text": [
            "Training the model, epoch: 1\n",
            "Cost after epoch 0: 422.1860647701419\n",
            "Training the model, epoch: 151\n",
            "Cost after epoch 150: 407.5661762677985\n",
            "Training the model, epoch: 301\n",
            "Cost after epoch 300: 393.5607498789798\n",
            "Training the model, epoch: 451\n",
            "Cost after epoch 450: 380.1447504504729\n",
            "Training the model, epoch: 601\n",
            "Cost after epoch 600: 367.2941658166171\n",
            "Training the model, epoch: 751\n",
            "Cost after epoch 750: 354.9859639673048\n",
            "Training the model, epoch: 901\n",
            "Cost after epoch 900: 343.19805206407676\n",
            "Training the model, epoch: 1051\n",
            "Cost after epoch 1050: 331.90923722230025\n",
            "Training the model, epoch: 1201\n",
            "Cost after epoch 1200: 321.0991889811378\n",
            "Training the model, epoch: 1351\n",
            "Cost after epoch 1350: 310.74840338657725\n",
            "Training complete!\n"
          ],
          "name": "stdout"
        }
      ]
    },
    {
      "metadata": {
        "id": "HxRFpsk0Kd9D",
        "colab_type": "code",
        "colab": {
          "base_uri": "https://localhost:8080/",
          "height": 410
        },
        "outputId": "68f6327a-c472-4bbe-fa20-201826b509ab"
      },
      "cell_type": "code",
      "source": [
        "evaluate_model(train_costs,parameters,X_train, Y_train, X_test, Y_test)"
      ],
      "execution_count": 12,
      "outputs": [
        {
          "output_type": "display_data",
          "data": {
            "image/png": "[encoded data removed]",
            "text/plain": [
              "<matplotlib.figure.Figure at 0x7f8b55021588>"
            ]
          },
          "metadata": {
            "tags": []
          }
        },
        {
          "output_type": "stream",
          "text": [
            "The train set MSE is: 300.8381686161749\n",
            "The test set MSE is: 308.0581336552814\n"
          ],
          "name": "stdout"
        }
      ]
    }
  ]
}